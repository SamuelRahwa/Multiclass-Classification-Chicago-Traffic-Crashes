{
 "cells": [
  {
   "cell_type": "code",
   "execution_count": 1,
   "id": "8a031bc5",
   "metadata": {
    "ExecuteTime": {
     "end_time": "2021-10-04T17:38:57.215606Z",
     "start_time": "2021-10-04T17:38:55.224546Z"
    }
   },
   "outputs": [],
   "source": [
    "# import packages\n",
    "import pandas as pd \n",
    "import numpy as np \n",
    "\n",
    "import matplotlib\n",
    "import matplotlib.pyplot as plt\n",
    "%matplotlib inline \n",
    "plt.style.use('ggplot')\n",
    "\n",
    "from matplotlib.pyplot import figure\n",
    "matplotlib.rcParams['figure.figsize'] = (12,8)\n",
    "\n",
    "import plotly.express as px\n",
    "\n",
    "import plotly.express as px\n",
    "import seaborn as sns \n",
    "sns.set_style('darkgrid')\n",
    "\n",
    "import warnings\n",
    "warnings.filterwarnings(\"ignore\")\n",
    "\n",
    "from pandas_profiling import ProfileReport"
   ]
  },
  {
   "cell_type": "code",
   "execution_count": 2,
   "id": "bc4b8d06",
   "metadata": {
    "ExecuteTime": {
     "end_time": "2021-10-04T17:39:03.334755Z",
     "start_time": "2021-10-04T17:38:57.217264Z"
    }
   },
   "outputs": [
    {
     "data": {
      "text/plain": [
       "(539468, 49)"
      ]
     },
     "metadata": {},
     "output_type": "display_data"
    },
    {
     "name": "stdout",
     "output_type": "stream",
     "text": [
      "<class 'pandas.core.frame.DataFrame'>\n",
      "RangeIndex: 539468 entries, 0 to 539467\n",
      "Data columns (total 49 columns):\n",
      " #   Column                         Non-Null Count   Dtype  \n",
      "---  ------                         --------------   -----  \n",
      " 0   CRASH_RECORD_ID                539468 non-null  object \n",
      " 1   RD_NO                          534919 non-null  object \n",
      " 2   CRASH_DATE_EST_I               40905 non-null   object \n",
      " 3   CRASH_DATE                     539468 non-null  object \n",
      " 4   POSTED_SPEED_LIMIT             539468 non-null  int64  \n",
      " 5   TRAFFIC_CONTROL_DEVICE         539468 non-null  object \n",
      " 6   DEVICE_CONDITION               539468 non-null  object \n",
      " 7   WEATHER_CONDITION              539468 non-null  object \n",
      " 8   LIGHTING_CONDITION             539468 non-null  object \n",
      " 9   FIRST_CRASH_TYPE               539468 non-null  object \n",
      " 10  TRAFFICWAY_TYPE                539468 non-null  object \n",
      " 11  LANE_CNT                       198968 non-null  float64\n",
      " 12  ALIGNMENT                      539468 non-null  object \n",
      " 13  ROADWAY_SURFACE_COND           539468 non-null  object \n",
      " 14  ROAD_DEFECT                    539468 non-null  object \n",
      " 15  REPORT_TYPE                    525996 non-null  object \n",
      " 16  CRASH_TYPE                     539468 non-null  object \n",
      " 17  INTERSECTION_RELATED_I         122322 non-null  object \n",
      " 18  NOT_RIGHT_OF_WAY_I             25512 non-null   object \n",
      " 19  HIT_AND_RUN_I                  162393 non-null  object \n",
      " 20  DAMAGE                         539468 non-null  object \n",
      " 21  DATE_POLICE_NOTIFIED           539468 non-null  object \n",
      " 22  PRIM_CONTRIBUTORY_CAUSE        539468 non-null  object \n",
      " 23  SEC_CONTRIBUTORY_CAUSE         539468 non-null  object \n",
      " 24  STREET_NO                      539468 non-null  int64  \n",
      " 25  STREET_DIRECTION               539465 non-null  object \n",
      " 26  STREET_NAME                    539467 non-null  object \n",
      " 27  BEAT_OF_OCCURRENCE             539463 non-null  float64\n",
      " 28  PHOTOS_TAKEN_I                 6731 non-null    object \n",
      " 29  STATEMENTS_TAKEN_I             10973 non-null   object \n",
      " 30  DOORING_I                      1737 non-null    object \n",
      " 31  WORK_ZONE_I                    3399 non-null    object \n",
      " 32  WORK_ZONE_TYPE                 2685 non-null    object \n",
      " 33  WORKERS_PRESENT_I              839 non-null     object \n",
      " 34  NUM_UNITS                      539466 non-null  float64\n",
      " 35  MOST_SEVERE_INJURY             538354 non-null  object \n",
      " 36  INJURIES_TOTAL                 538365 non-null  float64\n",
      " 37  INJURIES_FATAL                 538365 non-null  float64\n",
      " 38  INJURIES_INCAPACITATING        538365 non-null  float64\n",
      " 39  INJURIES_NON_INCAPACITATING    538365 non-null  float64\n",
      " 40  INJURIES_REPORTED_NOT_EVIDENT  538365 non-null  float64\n",
      " 41  INJURIES_NO_INDICATION         538365 non-null  float64\n",
      " 42  INJURIES_UNKNOWN               538365 non-null  float64\n",
      " 43  CRASH_HOUR                     539468 non-null  int64  \n",
      " 44  CRASH_DAY_OF_WEEK              539468 non-null  int64  \n",
      " 45  CRASH_MONTH                    539468 non-null  int64  \n",
      " 46  LATITUDE                       536366 non-null  float64\n",
      " 47  LONGITUDE                      536366 non-null  float64\n",
      " 48  LOCATION                       536366 non-null  object \n",
      "dtypes: float64(12), int64(5), object(32)\n",
      "memory usage: 201.7+ MB\n"
     ]
    }
   ],
   "source": [
    "# importing dataset\n",
    "\n",
    "data = pd.read_csv('Traffic_Crashes_-_Crashes.csv') \n",
    "display(data.shape)\n",
    "data.info()"
   ]
  },
  {
   "cell_type": "code",
   "execution_count": 3,
   "id": "5c03d34e",
   "metadata": {
    "ExecuteTime": {
     "end_time": "2021-10-04T17:39:03.547403Z",
     "start_time": "2021-10-04T17:39:03.337297Z"
    }
   },
   "outputs": [
    {
     "name": "stdout",
     "output_type": "stream",
     "text": [
      "['POSTED_SPEED_LIMIT' 'LANE_CNT' 'STREET_NO' 'BEAT_OF_OCCURRENCE'\n",
      " 'NUM_UNITS' 'INJURIES_TOTAL' 'INJURIES_FATAL' 'INJURIES_INCAPACITATING'\n",
      " 'INJURIES_NON_INCAPACITATING' 'INJURIES_REPORTED_NOT_EVIDENT'\n",
      " 'INJURIES_NO_INDICATION' 'INJURIES_UNKNOWN' 'CRASH_HOUR'\n",
      " 'CRASH_DAY_OF_WEEK' 'CRASH_MONTH' 'LATITUDE' 'LONGITUDE']\n",
      "['CRASH_RECORD_ID' 'RD_NO' 'CRASH_DATE_EST_I' 'CRASH_DATE'\n",
      " 'TRAFFIC_CONTROL_DEVICE' 'DEVICE_CONDITION' 'WEATHER_CONDITION'\n",
      " 'LIGHTING_CONDITION' 'FIRST_CRASH_TYPE' 'TRAFFICWAY_TYPE' 'ALIGNMENT'\n",
      " 'ROADWAY_SURFACE_COND' 'ROAD_DEFECT' 'REPORT_TYPE' 'CRASH_TYPE'\n",
      " 'INTERSECTION_RELATED_I' 'NOT_RIGHT_OF_WAY_I' 'HIT_AND_RUN_I' 'DAMAGE'\n",
      " 'DATE_POLICE_NOTIFIED' 'PRIM_CONTRIBUTORY_CAUSE' 'SEC_CONTRIBUTORY_CAUSE'\n",
      " 'STREET_DIRECTION' 'STREET_NAME' 'PHOTOS_TAKEN_I' 'STATEMENTS_TAKEN_I'\n",
      " 'DOORING_I' 'WORK_ZONE_I' 'WORK_ZONE_TYPE' 'WORKERS_PRESENT_I'\n",
      " 'MOST_SEVERE_INJURY' 'LOCATION']\n"
     ]
    }
   ],
   "source": [
    "# selecting/showing numeric columns\n",
    "\n",
    "df_numeric = data.select_dtypes(include=[np.number])\n",
    "numeric_cols = df_numeric.columns.values\n",
    "print(numeric_cols)\n",
    "\n",
    "# selecting/showing non numeric columns\n",
    "\n",
    "df_non_numeric = data.select_dtypes(exclude=[np.number])\n",
    "non_numeric_cols = df_non_numeric.columns.values\n",
    "print(non_numeric_cols)"
   ]
  },
  {
   "cell_type": "code",
   "execution_count": 4,
   "id": "340d02ed",
   "metadata": {
    "ExecuteTime": {
     "end_time": "2021-10-04T17:39:03.890598Z",
     "start_time": "2021-10-04T17:39:03.550032Z"
    }
   },
   "outputs": [
    {
     "data": {
      "text/html": [
       "<div>\n",
       "<style scoped>\n",
       "    .dataframe tbody tr th:only-of-type {\n",
       "        vertical-align: middle;\n",
       "    }\n",
       "\n",
       "    .dataframe tbody tr th {\n",
       "        vertical-align: top;\n",
       "    }\n",
       "\n",
       "    .dataframe thead th {\n",
       "        text-align: right;\n",
       "    }\n",
       "</style>\n",
       "<table border=\"1\" class=\"dataframe\">\n",
       "  <thead>\n",
       "    <tr style=\"text-align: right;\">\n",
       "      <th></th>\n",
       "      <th>POSTED_SPEED_LIMIT</th>\n",
       "      <th>LANE_CNT</th>\n",
       "      <th>STREET_NO</th>\n",
       "      <th>BEAT_OF_OCCURRENCE</th>\n",
       "      <th>NUM_UNITS</th>\n",
       "      <th>INJURIES_TOTAL</th>\n",
       "      <th>INJURIES_FATAL</th>\n",
       "      <th>INJURIES_INCAPACITATING</th>\n",
       "      <th>INJURIES_NON_INCAPACITATING</th>\n",
       "      <th>INJURIES_REPORTED_NOT_EVIDENT</th>\n",
       "      <th>INJURIES_NO_INDICATION</th>\n",
       "      <th>INJURIES_UNKNOWN</th>\n",
       "      <th>CRASH_HOUR</th>\n",
       "      <th>CRASH_DAY_OF_WEEK</th>\n",
       "      <th>CRASH_MONTH</th>\n",
       "      <th>LATITUDE</th>\n",
       "      <th>LONGITUDE</th>\n",
       "    </tr>\n",
       "  </thead>\n",
       "  <tbody>\n",
       "    <tr>\n",
       "      <th>count</th>\n",
       "      <td>539468.000000</td>\n",
       "      <td>1.989680e+05</td>\n",
       "      <td>539468.000000</td>\n",
       "      <td>539463.000000</td>\n",
       "      <td>539466.000000</td>\n",
       "      <td>538365.000000</td>\n",
       "      <td>538365.000000</td>\n",
       "      <td>538365.000000</td>\n",
       "      <td>538365.000000</td>\n",
       "      <td>538365.000000</td>\n",
       "      <td>538365.000000</td>\n",
       "      <td>538365.0</td>\n",
       "      <td>539468.000000</td>\n",
       "      <td>539468.000000</td>\n",
       "      <td>539468.000000</td>\n",
       "      <td>536366.000000</td>\n",
       "      <td>536366.000000</td>\n",
       "    </tr>\n",
       "    <tr>\n",
       "      <th>mean</th>\n",
       "      <td>28.311657</td>\n",
       "      <td>1.333232e+01</td>\n",
       "      <td>3664.200559</td>\n",
       "      <td>1238.295151</td>\n",
       "      <td>2.033969</td>\n",
       "      <td>0.180645</td>\n",
       "      <td>0.001096</td>\n",
       "      <td>0.019726</td>\n",
       "      <td>0.100971</td>\n",
       "      <td>0.058852</td>\n",
       "      <td>2.019191</td>\n",
       "      <td>0.0</td>\n",
       "      <td>13.249394</td>\n",
       "      <td>4.125620</td>\n",
       "      <td>6.613997</td>\n",
       "      <td>41.854833</td>\n",
       "      <td>-87.673022</td>\n",
       "    </tr>\n",
       "    <tr>\n",
       "      <th>std</th>\n",
       "      <td>6.417193</td>\n",
       "      <td>2.961906e+03</td>\n",
       "      <td>2909.733627</td>\n",
       "      <td>706.882710</td>\n",
       "      <td>0.447349</td>\n",
       "      <td>0.552809</td>\n",
       "      <td>0.035887</td>\n",
       "      <td>0.164411</td>\n",
       "      <td>0.410392</td>\n",
       "      <td>0.311681</td>\n",
       "      <td>1.168503</td>\n",
       "      <td>0.0</td>\n",
       "      <td>5.519311</td>\n",
       "      <td>1.979328</td>\n",
       "      <td>3.375880</td>\n",
       "      <td>0.334513</td>\n",
       "      <td>0.679754</td>\n",
       "    </tr>\n",
       "    <tr>\n",
       "      <th>min</th>\n",
       "      <td>0.000000</td>\n",
       "      <td>0.000000e+00</td>\n",
       "      <td>0.000000</td>\n",
       "      <td>111.000000</td>\n",
       "      <td>1.000000</td>\n",
       "      <td>0.000000</td>\n",
       "      <td>0.000000</td>\n",
       "      <td>0.000000</td>\n",
       "      <td>0.000000</td>\n",
       "      <td>0.000000</td>\n",
       "      <td>0.000000</td>\n",
       "      <td>0.0</td>\n",
       "      <td>0.000000</td>\n",
       "      <td>1.000000</td>\n",
       "      <td>1.000000</td>\n",
       "      <td>0.000000</td>\n",
       "      <td>-87.935877</td>\n",
       "    </tr>\n",
       "    <tr>\n",
       "      <th>25%</th>\n",
       "      <td>30.000000</td>\n",
       "      <td>2.000000e+00</td>\n",
       "      <td>1216.000000</td>\n",
       "      <td>712.000000</td>\n",
       "      <td>2.000000</td>\n",
       "      <td>0.000000</td>\n",
       "      <td>0.000000</td>\n",
       "      <td>0.000000</td>\n",
       "      <td>0.000000</td>\n",
       "      <td>0.000000</td>\n",
       "      <td>1.000000</td>\n",
       "      <td>0.0</td>\n",
       "      <td>9.000000</td>\n",
       "      <td>2.000000</td>\n",
       "      <td>4.000000</td>\n",
       "      <td>41.781578</td>\n",
       "      <td>-87.721215</td>\n",
       "    </tr>\n",
       "    <tr>\n",
       "      <th>50%</th>\n",
       "      <td>30.000000</td>\n",
       "      <td>2.000000e+00</td>\n",
       "      <td>3199.000000</td>\n",
       "      <td>1135.000000</td>\n",
       "      <td>2.000000</td>\n",
       "      <td>0.000000</td>\n",
       "      <td>0.000000</td>\n",
       "      <td>0.000000</td>\n",
       "      <td>0.000000</td>\n",
       "      <td>0.000000</td>\n",
       "      <td>2.000000</td>\n",
       "      <td>0.0</td>\n",
       "      <td>14.000000</td>\n",
       "      <td>4.000000</td>\n",
       "      <td>7.000000</td>\n",
       "      <td>41.875131</td>\n",
       "      <td>-87.673374</td>\n",
       "    </tr>\n",
       "    <tr>\n",
       "      <th>75%</th>\n",
       "      <td>30.000000</td>\n",
       "      <td>4.000000e+00</td>\n",
       "      <td>5599.000000</td>\n",
       "      <td>1822.000000</td>\n",
       "      <td>2.000000</td>\n",
       "      <td>0.000000</td>\n",
       "      <td>0.000000</td>\n",
       "      <td>0.000000</td>\n",
       "      <td>0.000000</td>\n",
       "      <td>0.000000</td>\n",
       "      <td>2.000000</td>\n",
       "      <td>0.0</td>\n",
       "      <td>17.000000</td>\n",
       "      <td>6.000000</td>\n",
       "      <td>9.000000</td>\n",
       "      <td>41.923985</td>\n",
       "      <td>-87.632795</td>\n",
       "    </tr>\n",
       "    <tr>\n",
       "      <th>max</th>\n",
       "      <td>99.000000</td>\n",
       "      <td>1.191625e+06</td>\n",
       "      <td>451100.000000</td>\n",
       "      <td>6100.000000</td>\n",
       "      <td>18.000000</td>\n",
       "      <td>21.000000</td>\n",
       "      <td>4.000000</td>\n",
       "      <td>7.000000</td>\n",
       "      <td>21.000000</td>\n",
       "      <td>15.000000</td>\n",
       "      <td>61.000000</td>\n",
       "      <td>0.0</td>\n",
       "      <td>23.000000</td>\n",
       "      <td>7.000000</td>\n",
       "      <td>12.000000</td>\n",
       "      <td>42.022780</td>\n",
       "      <td>0.000000</td>\n",
       "    </tr>\n",
       "  </tbody>\n",
       "</table>\n",
       "</div>"
      ],
      "text/plain": [
       "       POSTED_SPEED_LIMIT      LANE_CNT      STREET_NO  BEAT_OF_OCCURRENCE  \\\n",
       "count       539468.000000  1.989680e+05  539468.000000       539463.000000   \n",
       "mean            28.311657  1.333232e+01    3664.200559         1238.295151   \n",
       "std              6.417193  2.961906e+03    2909.733627          706.882710   \n",
       "min              0.000000  0.000000e+00       0.000000          111.000000   \n",
       "25%             30.000000  2.000000e+00    1216.000000          712.000000   \n",
       "50%             30.000000  2.000000e+00    3199.000000         1135.000000   \n",
       "75%             30.000000  4.000000e+00    5599.000000         1822.000000   \n",
       "max             99.000000  1.191625e+06  451100.000000         6100.000000   \n",
       "\n",
       "           NUM_UNITS  INJURIES_TOTAL  INJURIES_FATAL  INJURIES_INCAPACITATING  \\\n",
       "count  539466.000000   538365.000000   538365.000000            538365.000000   \n",
       "mean        2.033969        0.180645        0.001096                 0.019726   \n",
       "std         0.447349        0.552809        0.035887                 0.164411   \n",
       "min         1.000000        0.000000        0.000000                 0.000000   \n",
       "25%         2.000000        0.000000        0.000000                 0.000000   \n",
       "50%         2.000000        0.000000        0.000000                 0.000000   \n",
       "75%         2.000000        0.000000        0.000000                 0.000000   \n",
       "max        18.000000       21.000000        4.000000                 7.000000   \n",
       "\n",
       "       INJURIES_NON_INCAPACITATING  INJURIES_REPORTED_NOT_EVIDENT  \\\n",
       "count                538365.000000                  538365.000000   \n",
       "mean                      0.100971                       0.058852   \n",
       "std                       0.410392                       0.311681   \n",
       "min                       0.000000                       0.000000   \n",
       "25%                       0.000000                       0.000000   \n",
       "50%                       0.000000                       0.000000   \n",
       "75%                       0.000000                       0.000000   \n",
       "max                      21.000000                      15.000000   \n",
       "\n",
       "       INJURIES_NO_INDICATION  INJURIES_UNKNOWN     CRASH_HOUR  \\\n",
       "count           538365.000000          538365.0  539468.000000   \n",
       "mean                 2.019191               0.0      13.249394   \n",
       "std                  1.168503               0.0       5.519311   \n",
       "min                  0.000000               0.0       0.000000   \n",
       "25%                  1.000000               0.0       9.000000   \n",
       "50%                  2.000000               0.0      14.000000   \n",
       "75%                  2.000000               0.0      17.000000   \n",
       "max                 61.000000               0.0      23.000000   \n",
       "\n",
       "       CRASH_DAY_OF_WEEK    CRASH_MONTH       LATITUDE      LONGITUDE  \n",
       "count      539468.000000  539468.000000  536366.000000  536366.000000  \n",
       "mean            4.125620       6.613997      41.854833     -87.673022  \n",
       "std             1.979328       3.375880       0.334513       0.679754  \n",
       "min             1.000000       1.000000       0.000000     -87.935877  \n",
       "25%             2.000000       4.000000      41.781578     -87.721215  \n",
       "50%             4.000000       7.000000      41.875131     -87.673374  \n",
       "75%             6.000000       9.000000      41.923985     -87.632795  \n",
       "max             7.000000      12.000000      42.022780       0.000000  "
      ]
     },
     "execution_count": 4,
     "metadata": {},
     "output_type": "execute_result"
    }
   ],
   "source": [
    "# Overview of descriptive statistics \n",
    "\n",
    "data.describe()"
   ]
  },
  {
   "cell_type": "code",
   "execution_count": 5,
   "id": "83a6547c",
   "metadata": {
    "ExecuteTime": {
     "end_time": "2021-10-04T17:39:05.620961Z",
     "start_time": "2021-10-04T17:39:03.892444Z"
    }
   },
   "outputs": [
    {
     "data": {
      "text/html": [
       "<div>\n",
       "<style scoped>\n",
       "    .dataframe tbody tr th:only-of-type {\n",
       "        vertical-align: middle;\n",
       "    }\n",
       "\n",
       "    .dataframe tbody tr th {\n",
       "        vertical-align: top;\n",
       "    }\n",
       "\n",
       "    .dataframe thead th {\n",
       "        text-align: right;\n",
       "    }\n",
       "</style>\n",
       "<table border=\"1\" class=\"dataframe\">\n",
       "  <thead>\n",
       "    <tr style=\"text-align: right;\">\n",
       "      <th></th>\n",
       "      <th>Total</th>\n",
       "      <th>Missing Percent</th>\n",
       "    </tr>\n",
       "  </thead>\n",
       "  <tbody>\n",
       "    <tr>\n",
       "      <th>WORKERS_PRESENT_I</th>\n",
       "      <td>538629</td>\n",
       "      <td>99.844476</td>\n",
       "    </tr>\n",
       "    <tr>\n",
       "      <th>DOORING_I</th>\n",
       "      <td>537731</td>\n",
       "      <td>99.678016</td>\n",
       "    </tr>\n",
       "    <tr>\n",
       "      <th>WORK_ZONE_TYPE</th>\n",
       "      <td>536783</td>\n",
       "      <td>99.502287</td>\n",
       "    </tr>\n",
       "    <tr>\n",
       "      <th>WORK_ZONE_I</th>\n",
       "      <td>536069</td>\n",
       "      <td>99.369935</td>\n",
       "    </tr>\n",
       "    <tr>\n",
       "      <th>PHOTOS_TAKEN_I</th>\n",
       "      <td>532737</td>\n",
       "      <td>98.752289</td>\n",
       "    </tr>\n",
       "    <tr>\n",
       "      <th>STATEMENTS_TAKEN_I</th>\n",
       "      <td>528495</td>\n",
       "      <td>97.965959</td>\n",
       "    </tr>\n",
       "    <tr>\n",
       "      <th>NOT_RIGHT_OF_WAY_I</th>\n",
       "      <td>513956</td>\n",
       "      <td>95.270897</td>\n",
       "    </tr>\n",
       "    <tr>\n",
       "      <th>CRASH_DATE_EST_I</th>\n",
       "      <td>498563</td>\n",
       "      <td>92.417530</td>\n",
       "    </tr>\n",
       "    <tr>\n",
       "      <th>INTERSECTION_RELATED_I</th>\n",
       "      <td>417146</td>\n",
       "      <td>77.325439</td>\n",
       "    </tr>\n",
       "    <tr>\n",
       "      <th>HIT_AND_RUN_I</th>\n",
       "      <td>377075</td>\n",
       "      <td>69.897566</td>\n",
       "    </tr>\n",
       "    <tr>\n",
       "      <th>LANE_CNT</th>\n",
       "      <td>340500</td>\n",
       "      <td>63.117738</td>\n",
       "    </tr>\n",
       "    <tr>\n",
       "      <th>REPORT_TYPE</th>\n",
       "      <td>13472</td>\n",
       "      <td>2.497275</td>\n",
       "    </tr>\n",
       "    <tr>\n",
       "      <th>RD_NO</th>\n",
       "      <td>4549</td>\n",
       "      <td>0.843238</td>\n",
       "    </tr>\n",
       "  </tbody>\n",
       "</table>\n",
       "</div>"
      ],
      "text/plain": [
       "                         Total  Missing Percent\n",
       "WORKERS_PRESENT_I       538629        99.844476\n",
       "DOORING_I               537731        99.678016\n",
       "WORK_ZONE_TYPE          536783        99.502287\n",
       "WORK_ZONE_I             536069        99.369935\n",
       "PHOTOS_TAKEN_I          532737        98.752289\n",
       "STATEMENTS_TAKEN_I      528495        97.965959\n",
       "NOT_RIGHT_OF_WAY_I      513956        95.270897\n",
       "CRASH_DATE_EST_I        498563        92.417530\n",
       "INTERSECTION_RELATED_I  417146        77.325439\n",
       "HIT_AND_RUN_I           377075        69.897566\n",
       "LANE_CNT                340500        63.117738\n",
       "REPORT_TYPE              13472         2.497275\n",
       "RD_NO                     4549         0.843238"
      ]
     },
     "execution_count": 5,
     "metadata": {},
     "output_type": "execute_result"
    }
   ],
   "source": [
    "# Percentage of Data Missing Per Column Above 59%\n",
    "\n",
    "total = data.isnull().sum().sort_values(ascending=False)\n",
    "percent = (data.isnull().sum()/data.isnull().count()).sort_values(ascending=False)\n",
    "missing_data = pd.concat([total, percent], axis=1, keys=['Total', 'Missing Percent'])\n",
    "missing_data['Missing Percent'] = missing_data['Missing Percent'].apply(lambda x: x * 100)\n",
    "missing_data.loc[missing_data['Missing Percent'] > .59][:152]"
   ]
  },
  {
   "cell_type": "code",
   "execution_count": 6,
   "id": "031a67e2",
   "metadata": {
    "ExecuteTime": {
     "end_time": "2021-10-04T17:39:06.377915Z",
     "start_time": "2021-10-04T17:39:05.622423Z"
    }
   },
   "outputs": [],
   "source": [
    "# Deleting columns with more than 60% of missing data \n",
    "\n",
    "limitPer = len(data) * .60\n",
    "data = data.dropna(thresh = limitPer, axis = 1)"
   ]
  },
  {
   "cell_type": "code",
   "execution_count": 7,
   "id": "02ffcbaa",
   "metadata": {
    "ExecuteTime": {
     "end_time": "2021-10-04T17:39:07.699216Z",
     "start_time": "2021-10-04T17:39:06.379825Z"
    }
   },
   "outputs": [
    {
     "data": {
      "text/html": [
       "<div>\n",
       "<style scoped>\n",
       "    .dataframe tbody tr th:only-of-type {\n",
       "        vertical-align: middle;\n",
       "    }\n",
       "\n",
       "    .dataframe tbody tr th {\n",
       "        vertical-align: top;\n",
       "    }\n",
       "\n",
       "    .dataframe thead th {\n",
       "        text-align: right;\n",
       "    }\n",
       "</style>\n",
       "<table border=\"1\" class=\"dataframe\">\n",
       "  <thead>\n",
       "    <tr style=\"text-align: right;\">\n",
       "      <th></th>\n",
       "      <th>Total</th>\n",
       "      <th>Missing Percent</th>\n",
       "    </tr>\n",
       "  </thead>\n",
       "  <tbody>\n",
       "    <tr>\n",
       "      <th>REPORT_TYPE</th>\n",
       "      <td>13472</td>\n",
       "      <td>2.497275</td>\n",
       "    </tr>\n",
       "    <tr>\n",
       "      <th>RD_NO</th>\n",
       "      <td>4549</td>\n",
       "      <td>0.843238</td>\n",
       "    </tr>\n",
       "    <tr>\n",
       "      <th>LATITUDE</th>\n",
       "      <td>3102</td>\n",
       "      <td>0.575011</td>\n",
       "    </tr>\n",
       "    <tr>\n",
       "      <th>LOCATION</th>\n",
       "      <td>3102</td>\n",
       "      <td>0.575011</td>\n",
       "    </tr>\n",
       "    <tr>\n",
       "      <th>LONGITUDE</th>\n",
       "      <td>3102</td>\n",
       "      <td>0.575011</td>\n",
       "    </tr>\n",
       "    <tr>\n",
       "      <th>MOST_SEVERE_INJURY</th>\n",
       "      <td>1114</td>\n",
       "      <td>0.206500</td>\n",
       "    </tr>\n",
       "    <tr>\n",
       "      <th>INJURIES_UNKNOWN</th>\n",
       "      <td>1103</td>\n",
       "      <td>0.204461</td>\n",
       "    </tr>\n",
       "    <tr>\n",
       "      <th>INJURIES_NO_INDICATION</th>\n",
       "      <td>1103</td>\n",
       "      <td>0.204461</td>\n",
       "    </tr>\n",
       "    <tr>\n",
       "      <th>INJURIES_REPORTED_NOT_EVIDENT</th>\n",
       "      <td>1103</td>\n",
       "      <td>0.204461</td>\n",
       "    </tr>\n",
       "    <tr>\n",
       "      <th>INJURIES_INCAPACITATING</th>\n",
       "      <td>1103</td>\n",
       "      <td>0.204461</td>\n",
       "    </tr>\n",
       "    <tr>\n",
       "      <th>INJURIES_FATAL</th>\n",
       "      <td>1103</td>\n",
       "      <td>0.204461</td>\n",
       "    </tr>\n",
       "    <tr>\n",
       "      <th>INJURIES_TOTAL</th>\n",
       "      <td>1103</td>\n",
       "      <td>0.204461</td>\n",
       "    </tr>\n",
       "    <tr>\n",
       "      <th>INJURIES_NON_INCAPACITATING</th>\n",
       "      <td>1103</td>\n",
       "      <td>0.204461</td>\n",
       "    </tr>\n",
       "  </tbody>\n",
       "</table>\n",
       "</div>"
      ],
      "text/plain": [
       "                               Total  Missing Percent\n",
       "REPORT_TYPE                    13472         2.497275\n",
       "RD_NO                           4549         0.843238\n",
       "LATITUDE                        3102         0.575011\n",
       "LOCATION                        3102         0.575011\n",
       "LONGITUDE                       3102         0.575011\n",
       "MOST_SEVERE_INJURY              1114         0.206500\n",
       "INJURIES_UNKNOWN                1103         0.204461\n",
       "INJURIES_NO_INDICATION          1103         0.204461\n",
       "INJURIES_REPORTED_NOT_EVIDENT   1103         0.204461\n",
       "INJURIES_INCAPACITATING         1103         0.204461\n",
       "INJURIES_FATAL                  1103         0.204461\n",
       "INJURIES_TOTAL                  1103         0.204461\n",
       "INJURIES_NON_INCAPACITATING     1103         0.204461"
      ]
     },
     "execution_count": 7,
     "metadata": {},
     "output_type": "execute_result"
    }
   ],
   "source": [
    "# Percentage of missing data above .01%\n",
    "\n",
    "total = data.isnull().sum().sort_values(ascending=False)\n",
    "percent = (data.isnull().sum()/data.isnull().count()).sort_values(ascending=False)\n",
    "missing_data = pd.concat([total, percent], axis=1, keys=['Total', 'Missing Percent'])\n",
    "missing_data['Missing Percent'] = missing_data['Missing Percent'].apply(lambda x: x * 100)\n",
    "missing_data.loc[missing_data['Missing Percent'] > .01][:152]"
   ]
  },
  {
   "cell_type": "code",
   "execution_count": 8,
   "id": "da8c1809",
   "metadata": {
    "ExecuteTime": {
     "end_time": "2021-10-04T17:39:08.449539Z",
     "start_time": "2021-10-04T17:39:07.700972Z"
    }
   },
   "outputs": [],
   "source": [
    "# Dropping Rows with Missing Data\n",
    "\n",
    "data = data.dropna()"
   ]
  },
  {
   "cell_type": "code",
   "execution_count": 9,
   "id": "30c07f05",
   "metadata": {
    "ExecuteTime": {
     "end_time": "2021-10-04T17:39:09.157622Z",
     "start_time": "2021-10-04T17:39:08.454670Z"
    }
   },
   "outputs": [
    {
     "data": {
      "text/plain": [
       "(517457, 38)"
      ]
     },
     "metadata": {},
     "output_type": "display_data"
    },
    {
     "name": "stdout",
     "output_type": "stream",
     "text": [
      "<class 'pandas.core.frame.DataFrame'>\n",
      "Int64Index: 517457 entries, 0 to 539467\n",
      "Data columns (total 38 columns):\n",
      " #   Column                         Non-Null Count   Dtype  \n",
      "---  ------                         --------------   -----  \n",
      " 0   CRASH_RECORD_ID                517457 non-null  object \n",
      " 1   RD_NO                          517457 non-null  object \n",
      " 2   CRASH_DATE                     517457 non-null  object \n",
      " 3   POSTED_SPEED_LIMIT             517457 non-null  int64  \n",
      " 4   TRAFFIC_CONTROL_DEVICE         517457 non-null  object \n",
      " 5   DEVICE_CONDITION               517457 non-null  object \n",
      " 6   WEATHER_CONDITION              517457 non-null  object \n",
      " 7   LIGHTING_CONDITION             517457 non-null  object \n",
      " 8   FIRST_CRASH_TYPE               517457 non-null  object \n",
      " 9   TRAFFICWAY_TYPE                517457 non-null  object \n",
      " 10  ALIGNMENT                      517457 non-null  object \n",
      " 11  ROADWAY_SURFACE_COND           517457 non-null  object \n",
      " 12  ROAD_DEFECT                    517457 non-null  object \n",
      " 13  REPORT_TYPE                    517457 non-null  object \n",
      " 14  CRASH_TYPE                     517457 non-null  object \n",
      " 15  DAMAGE                         517457 non-null  object \n",
      " 16  DATE_POLICE_NOTIFIED           517457 non-null  object \n",
      " 17  PRIM_CONTRIBUTORY_CAUSE        517457 non-null  object \n",
      " 18  SEC_CONTRIBUTORY_CAUSE         517457 non-null  object \n",
      " 19  STREET_NO                      517457 non-null  int64  \n",
      " 20  STREET_DIRECTION               517457 non-null  object \n",
      " 21  STREET_NAME                    517457 non-null  object \n",
      " 22  BEAT_OF_OCCURRENCE             517457 non-null  float64\n",
      " 23  NUM_UNITS                      517457 non-null  float64\n",
      " 24  MOST_SEVERE_INJURY             517457 non-null  object \n",
      " 25  INJURIES_TOTAL                 517457 non-null  float64\n",
      " 26  INJURIES_FATAL                 517457 non-null  float64\n",
      " 27  INJURIES_INCAPACITATING        517457 non-null  float64\n",
      " 28  INJURIES_NON_INCAPACITATING    517457 non-null  float64\n",
      " 29  INJURIES_REPORTED_NOT_EVIDENT  517457 non-null  float64\n",
      " 30  INJURIES_NO_INDICATION         517457 non-null  float64\n",
      " 31  INJURIES_UNKNOWN               517457 non-null  float64\n",
      " 32  CRASH_HOUR                     517457 non-null  int64  \n",
      " 33  CRASH_DAY_OF_WEEK              517457 non-null  int64  \n",
      " 34  CRASH_MONTH                    517457 non-null  int64  \n",
      " 35  LATITUDE                       517457 non-null  float64\n",
      " 36  LONGITUDE                      517457 non-null  float64\n",
      " 37  LOCATION                       517457 non-null  object \n",
      "dtypes: float64(11), int64(5), object(22)\n",
      "memory usage: 154.0+ MB\n"
     ]
    },
    {
     "data": {
      "text/plain": [
       "None"
      ]
     },
     "metadata": {},
     "output_type": "display_data"
    },
    {
     "data": {
      "text/html": [
       "<div>\n",
       "<style scoped>\n",
       "    .dataframe tbody tr th:only-of-type {\n",
       "        vertical-align: middle;\n",
       "    }\n",
       "\n",
       "    .dataframe tbody tr th {\n",
       "        vertical-align: top;\n",
       "    }\n",
       "\n",
       "    .dataframe thead th {\n",
       "        text-align: right;\n",
       "    }\n",
       "</style>\n",
       "<table border=\"1\" class=\"dataframe\">\n",
       "  <thead>\n",
       "    <tr style=\"text-align: right;\">\n",
       "      <th></th>\n",
       "      <th>POSTED_SPEED_LIMIT</th>\n",
       "      <th>STREET_NO</th>\n",
       "      <th>BEAT_OF_OCCURRENCE</th>\n",
       "      <th>NUM_UNITS</th>\n",
       "      <th>INJURIES_TOTAL</th>\n",
       "      <th>INJURIES_FATAL</th>\n",
       "      <th>INJURIES_INCAPACITATING</th>\n",
       "      <th>INJURIES_NON_INCAPACITATING</th>\n",
       "      <th>INJURIES_REPORTED_NOT_EVIDENT</th>\n",
       "      <th>INJURIES_NO_INDICATION</th>\n",
       "      <th>INJURIES_UNKNOWN</th>\n",
       "      <th>CRASH_HOUR</th>\n",
       "      <th>CRASH_DAY_OF_WEEK</th>\n",
       "      <th>CRASH_MONTH</th>\n",
       "      <th>LATITUDE</th>\n",
       "      <th>LONGITUDE</th>\n",
       "    </tr>\n",
       "  </thead>\n",
       "  <tbody>\n",
       "    <tr>\n",
       "      <th>count</th>\n",
       "      <td>517457.000000</td>\n",
       "      <td>517457.000000</td>\n",
       "      <td>517457.000000</td>\n",
       "      <td>517457.000000</td>\n",
       "      <td>517457.000000</td>\n",
       "      <td>517457.000000</td>\n",
       "      <td>517457.000000</td>\n",
       "      <td>517457.000000</td>\n",
       "      <td>517457.000000</td>\n",
       "      <td>517457.000000</td>\n",
       "      <td>517457.0</td>\n",
       "      <td>517457.000000</td>\n",
       "      <td>517457.000000</td>\n",
       "      <td>517457.000000</td>\n",
       "      <td>517457.000000</td>\n",
       "      <td>517457.000000</td>\n",
       "    </tr>\n",
       "    <tr>\n",
       "      <th>mean</th>\n",
       "      <td>28.309396</td>\n",
       "      <td>3665.462307</td>\n",
       "      <td>1238.865989</td>\n",
       "      <td>2.030766</td>\n",
       "      <td>0.175483</td>\n",
       "      <td>0.000870</td>\n",
       "      <td>0.018941</td>\n",
       "      <td>0.098002</td>\n",
       "      <td>0.057670</td>\n",
       "      <td>2.017685</td>\n",
       "      <td>0.0</td>\n",
       "      <td>13.255921</td>\n",
       "      <td>4.128339</td>\n",
       "      <td>6.603007</td>\n",
       "      <td>41.855005</td>\n",
       "      <td>-87.673142</td>\n",
       "    </tr>\n",
       "    <tr>\n",
       "      <th>std</th>\n",
       "      <td>6.405533</td>\n",
       "      <td>2840.156882</td>\n",
       "      <td>707.147474</td>\n",
       "      <td>0.437111</td>\n",
       "      <td>0.542108</td>\n",
       "      <td>0.031627</td>\n",
       "      <td>0.160136</td>\n",
       "      <td>0.403160</td>\n",
       "      <td>0.307369</td>\n",
       "      <td>1.165818</td>\n",
       "      <td>0.0</td>\n",
       "      <td>5.504394</td>\n",
       "      <td>1.977575</td>\n",
       "      <td>3.385810</td>\n",
       "      <td>0.330073</td>\n",
       "      <td>0.670158</td>\n",
       "    </tr>\n",
       "    <tr>\n",
       "      <th>min</th>\n",
       "      <td>0.000000</td>\n",
       "      <td>1.000000</td>\n",
       "      <td>111.000000</td>\n",
       "      <td>1.000000</td>\n",
       "      <td>0.000000</td>\n",
       "      <td>0.000000</td>\n",
       "      <td>0.000000</td>\n",
       "      <td>0.000000</td>\n",
       "      <td>0.000000</td>\n",
       "      <td>0.000000</td>\n",
       "      <td>0.0</td>\n",
       "      <td>0.000000</td>\n",
       "      <td>1.000000</td>\n",
       "      <td>1.000000</td>\n",
       "      <td>0.000000</td>\n",
       "      <td>-87.935877</td>\n",
       "    </tr>\n",
       "    <tr>\n",
       "      <th>25%</th>\n",
       "      <td>30.000000</td>\n",
       "      <td>1224.000000</td>\n",
       "      <td>712.000000</td>\n",
       "      <td>2.000000</td>\n",
       "      <td>0.000000</td>\n",
       "      <td>0.000000</td>\n",
       "      <td>0.000000</td>\n",
       "      <td>0.000000</td>\n",
       "      <td>0.000000</td>\n",
       "      <td>1.000000</td>\n",
       "      <td>0.0</td>\n",
       "      <td>9.000000</td>\n",
       "      <td>2.000000</td>\n",
       "      <td>4.000000</td>\n",
       "      <td>41.781768</td>\n",
       "      <td>-87.721133</td>\n",
       "    </tr>\n",
       "    <tr>\n",
       "      <th>50%</th>\n",
       "      <td>30.000000</td>\n",
       "      <td>3200.000000</td>\n",
       "      <td>1135.000000</td>\n",
       "      <td>2.000000</td>\n",
       "      <td>0.000000</td>\n",
       "      <td>0.000000</td>\n",
       "      <td>0.000000</td>\n",
       "      <td>0.000000</td>\n",
       "      <td>0.000000</td>\n",
       "      <td>2.000000</td>\n",
       "      <td>0.0</td>\n",
       "      <td>14.000000</td>\n",
       "      <td>4.000000</td>\n",
       "      <td>7.000000</td>\n",
       "      <td>41.875190</td>\n",
       "      <td>-87.673303</td>\n",
       "    </tr>\n",
       "    <tr>\n",
       "      <th>75%</th>\n",
       "      <td>30.000000</td>\n",
       "      <td>5598.000000</td>\n",
       "      <td>1822.000000</td>\n",
       "      <td>2.000000</td>\n",
       "      <td>0.000000</td>\n",
       "      <td>0.000000</td>\n",
       "      <td>0.000000</td>\n",
       "      <td>0.000000</td>\n",
       "      <td>0.000000</td>\n",
       "      <td>2.000000</td>\n",
       "      <td>0.0</td>\n",
       "      <td>17.000000</td>\n",
       "      <td>6.000000</td>\n",
       "      <td>10.000000</td>\n",
       "      <td>41.924032</td>\n",
       "      <td>-87.632794</td>\n",
       "    </tr>\n",
       "    <tr>\n",
       "      <th>max</th>\n",
       "      <td>99.000000</td>\n",
       "      <td>13799.000000</td>\n",
       "      <td>2535.000000</td>\n",
       "      <td>18.000000</td>\n",
       "      <td>21.000000</td>\n",
       "      <td>3.000000</td>\n",
       "      <td>6.000000</td>\n",
       "      <td>21.000000</td>\n",
       "      <td>15.000000</td>\n",
       "      <td>61.000000</td>\n",
       "      <td>0.0</td>\n",
       "      <td>23.000000</td>\n",
       "      <td>7.000000</td>\n",
       "      <td>12.000000</td>\n",
       "      <td>42.022780</td>\n",
       "      <td>0.000000</td>\n",
       "    </tr>\n",
       "  </tbody>\n",
       "</table>\n",
       "</div>"
      ],
      "text/plain": [
       "       POSTED_SPEED_LIMIT      STREET_NO  BEAT_OF_OCCURRENCE      NUM_UNITS  \\\n",
       "count       517457.000000  517457.000000       517457.000000  517457.000000   \n",
       "mean            28.309396    3665.462307         1238.865989       2.030766   \n",
       "std              6.405533    2840.156882          707.147474       0.437111   \n",
       "min              0.000000       1.000000          111.000000       1.000000   \n",
       "25%             30.000000    1224.000000          712.000000       2.000000   \n",
       "50%             30.000000    3200.000000         1135.000000       2.000000   \n",
       "75%             30.000000    5598.000000         1822.000000       2.000000   \n",
       "max             99.000000   13799.000000         2535.000000      18.000000   \n",
       "\n",
       "       INJURIES_TOTAL  INJURIES_FATAL  INJURIES_INCAPACITATING  \\\n",
       "count   517457.000000   517457.000000            517457.000000   \n",
       "mean         0.175483        0.000870                 0.018941   \n",
       "std          0.542108        0.031627                 0.160136   \n",
       "min          0.000000        0.000000                 0.000000   \n",
       "25%          0.000000        0.000000                 0.000000   \n",
       "50%          0.000000        0.000000                 0.000000   \n",
       "75%          0.000000        0.000000                 0.000000   \n",
       "max         21.000000        3.000000                 6.000000   \n",
       "\n",
       "       INJURIES_NON_INCAPACITATING  INJURIES_REPORTED_NOT_EVIDENT  \\\n",
       "count                517457.000000                  517457.000000   \n",
       "mean                      0.098002                       0.057670   \n",
       "std                       0.403160                       0.307369   \n",
       "min                       0.000000                       0.000000   \n",
       "25%                       0.000000                       0.000000   \n",
       "50%                       0.000000                       0.000000   \n",
       "75%                       0.000000                       0.000000   \n",
       "max                      21.000000                      15.000000   \n",
       "\n",
       "       INJURIES_NO_INDICATION  INJURIES_UNKNOWN     CRASH_HOUR  \\\n",
       "count           517457.000000          517457.0  517457.000000   \n",
       "mean                 2.017685               0.0      13.255921   \n",
       "std                  1.165818               0.0       5.504394   \n",
       "min                  0.000000               0.0       0.000000   \n",
       "25%                  1.000000               0.0       9.000000   \n",
       "50%                  2.000000               0.0      14.000000   \n",
       "75%                  2.000000               0.0      17.000000   \n",
       "max                 61.000000               0.0      23.000000   \n",
       "\n",
       "       CRASH_DAY_OF_WEEK    CRASH_MONTH       LATITUDE      LONGITUDE  \n",
       "count      517457.000000  517457.000000  517457.000000  517457.000000  \n",
       "mean            4.128339       6.603007      41.855005     -87.673142  \n",
       "std             1.977575       3.385810       0.330073       0.670158  \n",
       "min             1.000000       1.000000       0.000000     -87.935877  \n",
       "25%             2.000000       4.000000      41.781768     -87.721133  \n",
       "50%             4.000000       7.000000      41.875190     -87.673303  \n",
       "75%             6.000000      10.000000      41.924032     -87.632794  \n",
       "max             7.000000      12.000000      42.022780       0.000000  "
      ]
     },
     "execution_count": 9,
     "metadata": {},
     "output_type": "execute_result"
    }
   ],
   "source": [
    "# Reviewing the data shape, columns and stats \n",
    "\n",
    "display(data.shape)\n",
    "display(data.info())\n",
    "data.describe()"
   ]
  },
  {
   "cell_type": "code",
   "execution_count": 10,
   "id": "45cc7a96",
   "metadata": {
    "ExecuteTime": {
     "end_time": "2021-10-04T17:39:12.204863Z",
     "start_time": "2021-10-04T17:39:09.159929Z"
    },
    "scrolled": false
   },
   "outputs": [
    {
     "name": "stdout",
     "output_type": "stream",
     "text": [
      "----------------------------------------CRASH_RECORD_ID---------------------------------------- - "
     ]
    },
    {
     "data": {
      "text/plain": [
       "4fd0a3e0897b3335b94cd8d5b2d2b350eb691add56c62ded0cf5fa7597f0f07367c789a2afe141853d52bdc085ec5a25f303b9f02dbd8bb1c26a5704b7925d06    1\n",
       "a65aaee77df47ddb6c9f4c674efc5ba62136e9c8804d6516eaa5cfafaf63e5443ff5f01c11c35d2cb57f3d940f3f56a19a0202a74aedf62562b0423005c823ed    1\n",
       "a65c4c456b87ced3628ccc11cd5f70218e79640b358011012329bde6e60412f971ecf2f706f6377b95f0ac420375aafa7661102893434b0591913fac3cc62c80    1\n",
       "a65c0d4e3bbccd4ab87b93b82f4b1de963243c4839bc4f37bc0b4ba80eb390b8430648726f1e55bb11802586e175a28855326da65a2e2578399d6cca07893490    1\n",
       "a65bfdabbb6396a5ab1f6c979609c4ecffa45e22ccbaede9590f1cd7b20da05e368db42683e9462e0db468da1fb986ef2e8becb507fe85e6d422715b17ae6a8b    1\n",
       "a65bcc9944efb7724dc0dee84ba017b575e3bddcd7cf0a8f84a5228d709b461ba1b3f1d529e46e50cc008cb71b60a3ec8bd055202987e7942c4b34d780b4b7b5    1\n",
       "a65ba038259f60eaa6b1bd5cb8a1940e1b15071695354be973795ebdc0ec4d77903323b32f4c0d0c1f686171fbd024053e1b92cee466a68695baa0da29c20db1    1\n",
       "a65b9ea92a4815f2b18fdd33e72f98c1ccdae8a95bb2f8a98ee8c8f1c2467f2ffd2cb633e2f74432aa56115d4a913d391ccd9892d78f634af5e50c8fabe13904    1\n",
       "a65b75ee66e8bd76b481153d5f93e799bbae87b02ef3b1e310be8dd515e098deff75b4e8e95e69814a2a5e204433be603baf4f4ebaa504409bc6479f26f93cde    1\n",
       "a65b6ce36a41456f4b99b9ad064bdcd5d95c20e7ebff485b475b2909cb308c15a3f139d6322b89dbab56b72beff7db65133cebfec20225010506ec6ffe8e118b    1\n",
       "Name: CRASH_RECORD_ID, dtype: int64"
      ]
     },
     "metadata": {},
     "output_type": "display_data"
    },
    {
     "name": "stdout",
     "output_type": "stream",
     "text": [
      "----------------------------------------RD_NO---------------------------------------- - "
     ]
    },
    {
     "data": {
      "text/plain": [
       "JC343143    1\n",
       "JD143018    1\n",
       "HZ240929    1\n",
       "JD103594    1\n",
       "JE248450    1\n",
       "JB158494    1\n",
       "JC273201    1\n",
       "JB131822    1\n",
       "HZ336044    1\n",
       "JB275629    1\n",
       "Name: RD_NO, dtype: int64"
      ]
     },
     "metadata": {},
     "output_type": "display_data"
    },
    {
     "name": "stdout",
     "output_type": "stream",
     "text": [
      "----------------------------------------CRASH_DATE---------------------------------------- - "
     ]
    },
    {
     "data": {
      "text/plain": [
       "12/29/2020 05:00:00 PM    29\n",
       "11/10/2017 10:30:00 AM    26\n",
       "11/10/2017 10:00:00 AM    20\n",
       "01/12/2019 02:30:00 PM    18\n",
       "01/12/2019 03:00:00 PM    18\n",
       "01/12/2019 02:00:00 PM    17\n",
       "02/04/2021 01:30:00 PM    17\n",
       "02/04/2021 02:00:00 PM    17\n",
       "09/04/2018 08:00:00 AM    16\n",
       "02/26/2020 08:00:00 AM    16\n",
       "Name: CRASH_DATE, dtype: int64"
      ]
     },
     "metadata": {},
     "output_type": "display_data"
    },
    {
     "name": "stdout",
     "output_type": "stream",
     "text": [
      "----------------------------------------POSTED_SPEED_LIMIT---------------------------------------- - "
     ]
    },
    {
     "data": {
      "text/plain": [
       "30    381207\n",
       "35     35386\n",
       "25     31670\n",
       "20     20356\n",
       "15     18256\n",
       "10     11281\n",
       "0       6730\n",
       "40      4810\n",
       "5       3717\n",
       "45      3005\n",
       "Name: POSTED_SPEED_LIMIT, dtype: int64"
      ]
     },
     "metadata": {},
     "output_type": "display_data"
    },
    {
     "name": "stdout",
     "output_type": "stream",
     "text": [
      "----------------------------------------TRAFFIC_CONTROL_DEVICE---------------------------------------- - "
     ]
    },
    {
     "data": {
      "text/plain": [
       "NO CONTROLS               298561\n",
       "TRAFFIC SIGNAL            143528\n",
       "STOP SIGN/FLASHER          51212\n",
       "UNKNOWN                    16802\n",
       "OTHER                       3076\n",
       "LANE USE MARKING            1143\n",
       "YIELD                        710\n",
       "OTHER REG. SIGN              520\n",
       "OTHER WARNING SIGN           453\n",
       "RAILROAD CROSSING GATE       332\n",
       "Name: TRAFFIC_CONTROL_DEVICE, dtype: int64"
      ]
     },
     "metadata": {},
     "output_type": "display_data"
    },
    {
     "name": "stdout",
     "output_type": "stream",
     "text": [
      "----------------------------------------DEVICE_CONDITION---------------------------------------- - "
     ]
    },
    {
     "data": {
      "text/plain": [
       "NO CONTROLS                 301677\n",
       "FUNCTIONING PROPERLY        178657\n",
       "UNKNOWN                      28532\n",
       "OTHER                         3965\n",
       "FUNCTIONING IMPROPERLY        2648\n",
       "NOT FUNCTIONING               1699\n",
       "WORN REFLECTIVE MATERIAL       218\n",
       "MISSING                         61\n",
       "Name: DEVICE_CONDITION, dtype: int64"
      ]
     },
     "metadata": {},
     "output_type": "display_data"
    },
    {
     "name": "stdout",
     "output_type": "stream",
     "text": [
      "----------------------------------------WEATHER_CONDITION---------------------------------------- - "
     ]
    },
    {
     "data": {
      "text/plain": [
       "CLEAR                    411174\n",
       "RAIN                      44564\n",
       "UNKNOWN                   22928\n",
       "SNOW                      19637\n",
       "CLOUDY/OVERCAST           15214\n",
       "OTHER                      1587\n",
       "FOG/SMOKE/HAZE              813\n",
       "SLEET/HAIL                  696\n",
       "FREEZING RAIN/DRIZZLE       594\n",
       "BLOWING SNOW                157\n",
       "Name: WEATHER_CONDITION, dtype: int64"
      ]
     },
     "metadata": {},
     "output_type": "display_data"
    },
    {
     "name": "stdout",
     "output_type": "stream",
     "text": [
      "----------------------------------------LIGHTING_CONDITION---------------------------------------- - "
     ]
    },
    {
     "data": {
      "text/plain": [
       "DAYLIGHT                  337878\n",
       "DARKNESS, LIGHTED ROAD    110414\n",
       "DARKNESS                   25443\n",
       "UNKNOWN                    19323\n",
       "DUSK                       15601\n",
       "DAWN                        8798\n",
       "Name: LIGHTING_CONDITION, dtype: int64"
      ]
     },
     "metadata": {},
     "output_type": "display_data"
    },
    {
     "name": "stdout",
     "output_type": "stream",
     "text": [
      "----------------------------------------FIRST_CRASH_TYPE---------------------------------------- - "
     ]
    },
    {
     "data": {
      "text/plain": [
       "REAR END                        122369\n",
       "PARKED MOTOR VEHICLE            120802\n",
       "SIDESWIPE SAME DIRECTION         79001\n",
       "TURNING                          71928\n",
       "ANGLE                            54752\n",
       "FIXED OBJECT                     23927\n",
       "PEDESTRIAN                       11665\n",
       "PEDALCYCLIST                      7597\n",
       "SIDESWIPE OPPOSITE DIRECTION      7585\n",
       "OTHER OBJECT                      4885\n",
       "Name: FIRST_CRASH_TYPE, dtype: int64"
      ]
     },
     "metadata": {},
     "output_type": "display_data"
    },
    {
     "name": "stdout",
     "output_type": "stream",
     "text": [
      "----------------------------------------TRAFFICWAY_TYPE---------------------------------------- - "
     ]
    },
    {
     "data": {
      "text/plain": [
       "NOT DIVIDED                        230069\n",
       "DIVIDED - W/MEDIAN (NOT RAISED)     90218\n",
       "ONE-WAY                             68191\n",
       "PARKING LOT                         36545\n",
       "DIVIDED - W/MEDIAN BARRIER          30458\n",
       "FOUR WAY                            19012\n",
       "OTHER                               14365\n",
       "ALLEY                                8587\n",
       "UNKNOWN                              5653\n",
       "CENTER TURN LANE                     4275\n",
       "Name: TRAFFICWAY_TYPE, dtype: int64"
      ]
     },
     "metadata": {},
     "output_type": "display_data"
    },
    {
     "name": "stdout",
     "output_type": "stream",
     "text": [
      "----------------------------------------ALIGNMENT---------------------------------------- - "
     ]
    },
    {
     "data": {
      "text/plain": [
       "STRAIGHT AND LEVEL       504675\n",
       "STRAIGHT ON GRADE          6451\n",
       "CURVE, LEVEL               3828\n",
       "STRAIGHT ON HILLCREST      1543\n",
       "CURVE ON GRADE              721\n",
       "CURVE ON HILLCREST          239\n",
       "Name: ALIGNMENT, dtype: int64"
      ]
     },
     "metadata": {},
     "output_type": "display_data"
    },
    {
     "name": "stdout",
     "output_type": "stream",
     "text": [
      "----------------------------------------ROADWAY_SURFACE_COND---------------------------------------- - "
     ]
    },
    {
     "data": {
      "text/plain": [
       "DRY                388690\n",
       "WET                 68751\n",
       "UNKNOWN             34980\n",
       "SNOW OR SLUSH       19779\n",
       "ICE                  3811\n",
       "OTHER                1223\n",
       "SAND, MUD, DIRT       223\n",
       "Name: ROADWAY_SURFACE_COND, dtype: int64"
      ]
     },
     "metadata": {},
     "output_type": "display_data"
    },
    {
     "name": "stdout",
     "output_type": "stream",
     "text": [
      "----------------------------------------ROAD_DEFECT---------------------------------------- - "
     ]
    },
    {
     "data": {
      "text/plain": [
       "NO DEFECTS           428693\n",
       "UNKNOWN               77549\n",
       "RUT, HOLES             4611\n",
       "OTHER                  2931\n",
       "WORN SURFACE           2134\n",
       "SHOULDER DEFECT        1104\n",
       "DEBRIS ON ROADWAY       435\n",
       "Name: ROAD_DEFECT, dtype: int64"
      ]
     },
     "metadata": {},
     "output_type": "display_data"
    },
    {
     "name": "stdout",
     "output_type": "stream",
     "text": [
      "----------------------------------------REPORT_TYPE---------------------------------------- - "
     ]
    },
    {
     "data": {
      "text/plain": [
       "NOT ON SCENE (DESK REPORT)    300791\n",
       "ON SCENE                      216429\n",
       "AMENDED                          237\n",
       "Name: REPORT_TYPE, dtype: int64"
      ]
     },
     "metadata": {},
     "output_type": "display_data"
    },
    {
     "name": "stdout",
     "output_type": "stream",
     "text": [
      "----------------------------------------CRASH_TYPE---------------------------------------- - "
     ]
    },
    {
     "data": {
      "text/plain": [
       "NO INJURY / DRIVE AWAY              388384\n",
       "INJURY AND / OR TOW DUE TO CRASH    129073\n",
       "Name: CRASH_TYPE, dtype: int64"
      ]
     },
     "metadata": {},
     "output_type": "display_data"
    },
    {
     "name": "stdout",
     "output_type": "stream",
     "text": [
      "----------------------------------------DAMAGE---------------------------------------- - "
     ]
    },
    {
     "data": {
      "text/plain": [
       "OVER $1,500      302512\n",
       "$501 - $1,500    149624\n",
       "$500 OR LESS      65321\n",
       "Name: DAMAGE, dtype: int64"
      ]
     },
     "metadata": {},
     "output_type": "display_data"
    },
    {
     "name": "stdout",
     "output_type": "stream",
     "text": [
      "----------------------------------------DATE_POLICE_NOTIFIED---------------------------------------- - "
     ]
    },
    {
     "data": {
      "text/plain": [
       "02/26/2020 08:30:00 AM    12\n",
       "10/12/2020 04:00:00 PM    11\n",
       "06/30/2018 09:30:00 PM    11\n",
       "02/14/2020 05:00:00 PM    11\n",
       "07/01/2021 07:00:00 PM    11\n",
       "02/19/2021 04:00:00 PM    11\n",
       "01/12/2019 04:30:00 PM    11\n",
       "02/05/2020 05:00:00 PM    10\n",
       "09/13/2019 05:00:00 PM    10\n",
       "05/31/2019 04:00:00 PM    10\n",
       "Name: DATE_POLICE_NOTIFIED, dtype: int64"
      ]
     },
     "metadata": {},
     "output_type": "display_data"
    },
    {
     "name": "stdout",
     "output_type": "stream",
     "text": [
      "----------------------------------------PRIM_CONTRIBUTORY_CAUSE---------------------------------------- - "
     ]
    },
    {
     "data": {
      "text/plain": [
       "UNABLE TO DETERMINE                       193519\n",
       "FAILING TO YIELD RIGHT-OF-WAY              56344\n",
       "FOLLOWING TOO CLOSELY                      54237\n",
       "NOT APPLICABLE                             27682\n",
       "IMPROPER OVERTAKING/PASSING                24627\n",
       "IMPROPER BACKING                           22430\n",
       "FAILING TO REDUCE SPEED TO AVOID CRASH     22385\n",
       "IMPROPER LANE USAGE                        19658\n",
       "IMPROPER TURNING/NO SIGNAL                 17111\n",
       "DRIVING SKILLS/KNOWLEDGE/EXPERIENCE        16445\n",
       "Name: PRIM_CONTRIBUTORY_CAUSE, dtype: int64"
      ]
     },
     "metadata": {},
     "output_type": "display_data"
    },
    {
     "name": "stdout",
     "output_type": "stream",
     "text": [
      "----------------------------------------SEC_CONTRIBUTORY_CAUSE---------------------------------------- - "
     ]
    },
    {
     "data": {
      "text/plain": [
       "NOT APPLICABLE                            210456\n",
       "UNABLE TO DETERMINE                       185629\n",
       "FAILING TO REDUCE SPEED TO AVOID CRASH     21061\n",
       "DRIVING SKILLS/KNOWLEDGE/EXPERIENCE        16009\n",
       "FAILING TO YIELD RIGHT-OF-WAY              15493\n",
       "FOLLOWING TOO CLOSELY                      14077\n",
       "IMPROPER OVERTAKING/PASSING                 7637\n",
       "IMPROPER LANE USAGE                         7390\n",
       "WEATHER                                     6269\n",
       "IMPROPER TURNING/NO SIGNAL                  5068\n",
       "Name: SEC_CONTRIBUTORY_CAUSE, dtype: int64"
      ]
     },
     "metadata": {},
     "output_type": "display_data"
    },
    {
     "name": "stdout",
     "output_type": "stream",
     "text": [
      "----------------------------------------STREET_NO---------------------------------------- - "
     ]
    },
    {
     "data": {
      "text/plain": [
       "100     3346\n",
       "1600    3309\n",
       "800     3085\n",
       "200     3042\n",
       "300     2799\n",
       "6300    2609\n",
       "500     2589\n",
       "4700    2589\n",
       "2400    2495\n",
       "1200    2490\n",
       "Name: STREET_NO, dtype: int64"
      ]
     },
     "metadata": {},
     "output_type": "display_data"
    },
    {
     "name": "stdout",
     "output_type": "stream",
     "text": [
      "----------------------------------------STREET_DIRECTION---------------------------------------- - "
     ]
    },
    {
     "data": {
      "text/plain": [
       "W    183927\n",
       "S    173090\n",
       "N    124135\n",
       "E     36305\n",
       "Name: STREET_DIRECTION, dtype: int64"
      ]
     },
     "metadata": {},
     "output_type": "display_data"
    },
    {
     "name": "stdout",
     "output_type": "stream",
     "text": [
      "----------------------------------------STREET_NAME---------------------------------------- - "
     ]
    },
    {
     "data": {
      "text/plain": [
       "WESTERN AVE     14304\n",
       "PULASKI RD      12325\n",
       "CICERO AVE      11392\n",
       "ASHLAND AVE     11319\n",
       "HALSTED ST      10063\n",
       "KEDZIE AVE       8737\n",
       "MICHIGAN AVE     6822\n",
       "STATE ST         6168\n",
       "NORTH AVE        6021\n",
       "CLARK ST         5734\n",
       "Name: STREET_NAME, dtype: int64"
      ]
     },
     "metadata": {},
     "output_type": "display_data"
    },
    {
     "name": "stdout",
     "output_type": "stream",
     "text": [
      "----------------------------------------BEAT_OF_OCCURRENCE---------------------------------------- - "
     ]
    },
    {
     "data": {
      "text/plain": [
       "1834.0    6619\n",
       "114.0     5438\n",
       "122.0     5123\n",
       "1831.0    5109\n",
       "813.0     5010\n",
       "815.0     4833\n",
       "833.0     4187\n",
       "834.0     3937\n",
       "2413.0    3878\n",
       "1232.0    3769\n",
       "Name: BEAT_OF_OCCURRENCE, dtype: int64"
      ]
     },
     "metadata": {},
     "output_type": "display_data"
    },
    {
     "name": "stdout",
     "output_type": "stream",
     "text": [
      "----------------------------------------NUM_UNITS---------------------------------------- - "
     ]
    },
    {
     "data": {
      "text/plain": [
       "2.0     455336\n",
       "1.0      27858\n",
       "3.0      27397\n",
       "4.0       5148\n",
       "5.0       1169\n",
       "6.0        344\n",
       "7.0        114\n",
       "8.0         51\n",
       "9.0         22\n",
       "10.0         7\n",
       "Name: NUM_UNITS, dtype: int64"
      ]
     },
     "metadata": {},
     "output_type": "display_data"
    },
    {
     "name": "stdout",
     "output_type": "stream",
     "text": [
      "----------------------------------------MOST_SEVERE_INJURY---------------------------------------- - "
     ]
    },
    {
     "data": {
      "text/plain": [
       "NO INDICATION OF INJURY     451009\n",
       "NONINCAPACITATING INJURY     37104\n",
       "REPORTED, NOT EVIDENT        20547\n",
       "INCAPACITATING INJURY         8376\n",
       "FATAL                          421\n",
       "Name: MOST_SEVERE_INJURY, dtype: int64"
      ]
     },
     "metadata": {},
     "output_type": "display_data"
    },
    {
     "name": "stdout",
     "output_type": "stream",
     "text": [
      "----------------------------------------INJURIES_TOTAL---------------------------------------- - "
     ]
    },
    {
     "data": {
      "text/plain": [
       "0.0    451009\n",
       "1.0     50420\n",
       "2.0     10864\n",
       "3.0      3276\n",
       "4.0      1177\n",
       "5.0       434\n",
       "6.0       160\n",
       "7.0        61\n",
       "8.0        21\n",
       "9.0        14\n",
       "Name: INJURIES_TOTAL, dtype: int64"
      ]
     },
     "metadata": {},
     "output_type": "display_data"
    },
    {
     "name": "stdout",
     "output_type": "stream",
     "text": [
      "----------------------------------------INJURIES_FATAL---------------------------------------- - "
     ]
    },
    {
     "data": {
      "text/plain": [
       "0.0    517036\n",
       "1.0       397\n",
       "2.0        19\n",
       "3.0         5\n",
       "Name: INJURIES_FATAL, dtype: int64"
      ]
     },
     "metadata": {},
     "output_type": "display_data"
    },
    {
     "name": "stdout",
     "output_type": "stream",
     "text": [
      "----------------------------------------INJURIES_INCAPACITATING---------------------------------------- - "
     ]
    },
    {
     "data": {
      "text/plain": [
       "0.0    509016\n",
       "1.0      7433\n",
       "2.0       750\n",
       "3.0       182\n",
       "4.0        61\n",
       "5.0        12\n",
       "6.0         3\n",
       "Name: INJURIES_INCAPACITATING, dtype: int64"
      ]
     },
     "metadata": {},
     "output_type": "display_data"
    },
    {
     "name": "stdout",
     "output_type": "stream",
     "text": [
      "----------------------------------------INJURIES_NON_INCAPACITATING---------------------------------------- - "
     ]
    },
    {
     "data": {
      "text/plain": [
       "0.0     478867\n",
       "1.0      30525\n",
       "2.0       5524\n",
       "3.0       1639\n",
       "4.0        571\n",
       "5.0        201\n",
       "6.0         76\n",
       "7.0         30\n",
       "8.0          7\n",
       "10.0         4\n",
       "Name: INJURIES_NON_INCAPACITATING, dtype: int64"
      ]
     },
     "metadata": {},
     "output_type": "display_data"
    },
    {
     "name": "stdout",
     "output_type": "stream",
     "text": [
      "----------------------------------------INJURIES_REPORTED_NOT_EVIDENT---------------------------------------- - "
     ]
    },
    {
     "data": {
      "text/plain": [
       "0.0    494660\n",
       "1.0     17839\n",
       "2.0      3596\n",
       "3.0       915\n",
       "4.0       281\n",
       "5.0       115\n",
       "6.0        23\n",
       "7.0        13\n",
       "8.0         6\n",
       "9.0         5\n",
       "Name: INJURIES_REPORTED_NOT_EVIDENT, dtype: int64"
      ]
     },
     "metadata": {},
     "output_type": "display_data"
    },
    {
     "name": "stdout",
     "output_type": "stream",
     "text": [
      "----------------------------------------INJURIES_NO_INDICATION---------------------------------------- - "
     ]
    },
    {
     "data": {
      "text/plain": [
       "2.0    240918\n",
       "1.0    157334\n",
       "3.0     66129\n",
       "4.0     25084\n",
       "5.0     10508\n",
       "0.0      9842\n",
       "6.0      4443\n",
       "7.0      1687\n",
       "8.0       755\n",
       "9.0       319\n",
       "Name: INJURIES_NO_INDICATION, dtype: int64"
      ]
     },
     "metadata": {},
     "output_type": "display_data"
    },
    {
     "name": "stdout",
     "output_type": "stream",
     "text": [
      "----------------------------------------INJURIES_UNKNOWN---------------------------------------- - "
     ]
    },
    {
     "data": {
      "text/plain": [
       "0.0    517457\n",
       "Name: INJURIES_UNKNOWN, dtype: int64"
      ]
     },
     "metadata": {},
     "output_type": "display_data"
    },
    {
     "name": "stdout",
     "output_type": "stream",
     "text": [
      "----------------------------------------CRASH_HOUR---------------------------------------- - "
     ]
    },
    {
     "data": {
      "text/plain": [
       "16    39737\n",
       "15    39456\n",
       "17    39012\n",
       "14    35217\n",
       "18    32301\n",
       "13    32211\n",
       "12    30874\n",
       "8     26863\n",
       "11    26727\n",
       "9     23999\n",
       "Name: CRASH_HOUR, dtype: int64"
      ]
     },
     "metadata": {},
     "output_type": "display_data"
    },
    {
     "name": "stdout",
     "output_type": "stream",
     "text": [
      "----------------------------------------CRASH_DAY_OF_WEEK---------------------------------------- - "
     ]
    },
    {
     "data": {
      "text/plain": [
       "6    83965\n",
       "7    77055\n",
       "5    74075\n",
       "3    74067\n",
       "4    73500\n",
       "2    71692\n",
       "1    63103\n",
       "Name: CRASH_DAY_OF_WEEK, dtype: int64"
      ]
     },
     "metadata": {},
     "output_type": "display_data"
    },
    {
     "name": "stdout",
     "output_type": "stream",
     "text": [
      "----------------------------------------CRASH_MONTH---------------------------------------- - "
     ]
    },
    {
     "data": {
      "text/plain": [
       "7     48435\n",
       "8     47308\n",
       "6     46740\n",
       "5     45085\n",
       "10    45050\n",
       "12    42844\n",
       "9     41969\n",
       "11    41615\n",
       "1     40082\n",
       "2     40077\n",
       "Name: CRASH_MONTH, dtype: int64"
      ]
     },
     "metadata": {},
     "output_type": "display_data"
    },
    {
     "name": "stdout",
     "output_type": "stream",
     "text": [
      "----------------------------------------LATITUDE---------------------------------------- - "
     ]
    },
    {
     "data": {
      "text/plain": [
       "41.976201    702\n",
       "41.751461    369\n",
       "41.791420    359\n",
       "41.722257    292\n",
       "41.900959    268\n",
       "41.754660    239\n",
       "41.789329    216\n",
       "41.901003    207\n",
       "41.736209    187\n",
       "41.742578    180\n",
       "Name: LATITUDE, dtype: int64"
      ]
     },
     "metadata": {},
     "output_type": "display_data"
    },
    {
     "name": "stdout",
     "output_type": "stream",
     "text": [
      "----------------------------------------LONGITUDE---------------------------------------- - "
     ]
    },
    {
     "data": {
      "text/plain": [
       "-87.905309    702\n",
       "-87.585972    369\n",
       "-87.580148    359\n",
       "-87.585276    292\n",
       "-87.619928    268\n",
       "-87.741385    239\n",
       "-87.741646    216\n",
       "-87.619780    207\n",
       "-87.624306    187\n",
       "-87.633937    180\n",
       "Name: LONGITUDE, dtype: int64"
      ]
     },
     "metadata": {},
     "output_type": "display_data"
    },
    {
     "name": "stdout",
     "output_type": "stream",
     "text": [
      "----------------------------------------LOCATION---------------------------------------- - "
     ]
    },
    {
     "data": {
      "text/plain": [
       "POINT (-87.905309125103 41.976201139024)    702\n",
       "POINT (-87.585971992965 41.751460603167)    369\n",
       "POINT (-87.580147768689 41.791420282098)    359\n",
       "POINT (-87.585275565077 41.722257273006)    292\n",
       "POINT (-87.619928173678 41.900958919109)    268\n",
       "POINT (-87.741384758605 41.754660124394)    239\n",
       "POINT (-87.741645644196 41.789329323265)    216\n",
       "POINT (-87.619779806193 41.901002863094)    207\n",
       "POINT (-87.624305519124 41.736209469449)    187\n",
       "POINT (-87.633936930688 41.742577617335)    180\n",
       "Name: LOCATION, dtype: int64"
      ]
     },
     "metadata": {},
     "output_type": "display_data"
    }
   ],
   "source": [
    "# Reviewing the top 10 value counts in each column\n",
    "\n",
    "for col in data.columns:\n",
    "    print('-' * 40 + col + '-' * 40 , end=' - ')\n",
    "    display(data[col].value_counts().head(10))"
   ]
  },
  {
   "cell_type": "code",
   "execution_count": 11,
   "id": "94908644",
   "metadata": {
    "ExecuteTime": {
     "end_time": "2021-10-04T17:39:14.808057Z",
     "start_time": "2021-10-04T17:39:12.207881Z"
    },
    "scrolled": false
   },
   "outputs": [
    {
     "name": "stdout",
     "output_type": "stream",
     "text": [
      "POSTED_SPEED_LIMIT: 73.66931%\n",
      "30    381207\n",
      "35     35386\n",
      "25     31670\n",
      "20     20356\n",
      "15     18256\n",
      "10     11281\n",
      "0       6730\n",
      "40      4810\n",
      "5       3717\n",
      "45      3005\n",
      "55       405\n",
      "3        125\n",
      "50       105\n",
      "9         90\n",
      "99        66\n",
      "39        57\n",
      "1         34\n",
      "60        25\n",
      "24        23\n",
      "2         20\n",
      "32        14\n",
      "34        12\n",
      "65        10\n",
      "33        10\n",
      "6          7\n",
      "11         6\n",
      "36         5\n",
      "70         3\n",
      "14         3\n",
      "18         2\n",
      "31         2\n",
      "38         2\n",
      "7          2\n",
      "26         2\n",
      "12         2\n",
      "22         2\n",
      "49         1\n",
      "23         1\n",
      "63         1\n",
      "4          1\n",
      "29         1\n",
      "Name: POSTED_SPEED_LIMIT, dtype: int64\n",
      "\n",
      "TRAFFIC_CONTROL_DEVICE: 57.69774%\n",
      "NO CONTROLS                 298561\n",
      "TRAFFIC SIGNAL              143528\n",
      "STOP SIGN/FLASHER            51212\n",
      "UNKNOWN                      16802\n",
      "OTHER                         3076\n",
      "LANE USE MARKING              1143\n",
      "YIELD                          710\n",
      "OTHER REG. SIGN                520\n",
      "OTHER WARNING SIGN             453\n",
      "RAILROAD CROSSING GATE         332\n",
      "PEDESTRIAN CROSSING SIGN       232\n",
      "POLICE/FLAGMAN                 187\n",
      "SCHOOL ZONE                    171\n",
      "DELINEATORS                    160\n",
      "FLASHING CONTROL SIGNAL        152\n",
      "OTHER RAILROAD CROSSING        123\n",
      "RR CROSSING SIGN                56\n",
      "NO PASSING                      22\n",
      "BICYCLE CROSSING SIGN           17\n",
      "Name: TRAFFIC_CONTROL_DEVICE, dtype: int64\n",
      "\n",
      "DEVICE_CONDITION: 58.29992%\n",
      "NO CONTROLS                 301677\n",
      "FUNCTIONING PROPERLY        178657\n",
      "UNKNOWN                      28532\n",
      "OTHER                         3965\n",
      "FUNCTIONING IMPROPERLY        2648\n",
      "NOT FUNCTIONING               1699\n",
      "WORN REFLECTIVE MATERIAL       218\n",
      "MISSING                         61\n",
      "Name: DEVICE_CONDITION, dtype: int64\n",
      "\n",
      "WEATHER_CONDITION: 79.46052%\n",
      "CLEAR                       411174\n",
      "RAIN                         44564\n",
      "UNKNOWN                      22928\n",
      "SNOW                         19637\n",
      "CLOUDY/OVERCAST              15214\n",
      "OTHER                         1587\n",
      "FOG/SMOKE/HAZE                 813\n",
      "SLEET/HAIL                     696\n",
      "FREEZING RAIN/DRIZZLE          594\n",
      "BLOWING SNOW                   157\n",
      "SEVERE CROSS WIND GATE          91\n",
      "BLOWING SAND, SOIL, DIRT         2\n",
      "Name: WEATHER_CONDITION, dtype: int64\n",
      "\n",
      "LIGHTING_CONDITION: 65.29586%\n",
      "DAYLIGHT                  337878\n",
      "DARKNESS, LIGHTED ROAD    110414\n",
      "DARKNESS                   25443\n",
      "UNKNOWN                    19323\n",
      "DUSK                       15601\n",
      "DAWN                        8798\n",
      "Name: LIGHTING_CONDITION, dtype: int64\n",
      "\n",
      "ALIGNMENT: 97.52984%\n",
      "STRAIGHT AND LEVEL       504675\n",
      "STRAIGHT ON GRADE          6451\n",
      "CURVE, LEVEL               3828\n",
      "STRAIGHT ON HILLCREST      1543\n",
      "CURVE ON GRADE              721\n",
      "CURVE ON HILLCREST          239\n",
      "Name: ALIGNMENT, dtype: int64\n",
      "\n",
      "ROADWAY_SURFACE_COND: 75.11542%\n",
      "DRY                388690\n",
      "WET                 68751\n",
      "UNKNOWN             34980\n",
      "SNOW OR SLUSH       19779\n",
      "ICE                  3811\n",
      "OTHER                1223\n",
      "SAND, MUD, DIRT       223\n",
      "Name: ROADWAY_SURFACE_COND, dtype: int64\n",
      "\n",
      "ROAD_DEFECT: 82.84611%\n",
      "NO DEFECTS           428693\n",
      "UNKNOWN               77549\n",
      "RUT, HOLES             4611\n",
      "OTHER                  2931\n",
      "WORN SURFACE           2134\n",
      "SHOULDER DEFECT        1104\n",
      "DEBRIS ON ROADWAY       435\n",
      "Name: ROAD_DEFECT, dtype: int64\n",
      "\n",
      "REPORT_TYPE: 58.12869%\n",
      "NOT ON SCENE (DESK REPORT)    300791\n",
      "ON SCENE                      216429\n",
      "AMENDED                          237\n",
      "Name: REPORT_TYPE, dtype: int64\n",
      "\n",
      "CRASH_TYPE: 75.05628%\n",
      "NO INJURY / DRIVE AWAY              388384\n",
      "INJURY AND / OR TOW DUE TO CRASH    129073\n",
      "Name: CRASH_TYPE, dtype: int64\n",
      "\n",
      "DAMAGE: 58.46128%\n",
      "OVER $1,500      302512\n",
      "$501 - $1,500    149624\n",
      "$500 OR LESS      65321\n",
      "Name: DAMAGE, dtype: int64\n",
      "\n",
      "NUM_UNITS: 87.99494%\n",
      "2.0     455336\n",
      "1.0      27858\n",
      "3.0      27397\n",
      "4.0       5148\n",
      "5.0       1169\n",
      "6.0        344\n",
      "7.0        114\n",
      "8.0         51\n",
      "9.0         22\n",
      "10.0         7\n",
      "11.0         5\n",
      "12.0         3\n",
      "14.0         1\n",
      "15.0         1\n",
      "18.0         1\n",
      "Name: NUM_UNITS, dtype: int64\n",
      "\n",
      "MOST_SEVERE_INJURY: 87.15874%\n",
      "NO INDICATION OF INJURY     451009\n",
      "NONINCAPACITATING INJURY     37104\n",
      "REPORTED, NOT EVIDENT        20547\n",
      "INCAPACITATING INJURY         8376\n",
      "FATAL                          421\n",
      "Name: MOST_SEVERE_INJURY, dtype: int64\n",
      "\n",
      "INJURIES_TOTAL: 87.15874%\n",
      "0.0     451009\n",
      "1.0      50420\n",
      "2.0      10864\n",
      "3.0       3276\n",
      "4.0       1177\n",
      "5.0        434\n",
      "6.0        160\n",
      "7.0         61\n",
      "8.0         21\n",
      "9.0         14\n",
      "10.0         7\n",
      "11.0         5\n",
      "21.0         2\n",
      "15.0         2\n",
      "13.0         2\n",
      "19.0         1\n",
      "12.0         1\n",
      "16.0         1\n",
      "Name: INJURIES_TOTAL, dtype: int64\n",
      "\n",
      "INJURIES_FATAL: 99.91864%\n",
      "0.0    517036\n",
      "1.0       397\n",
      "2.0        19\n",
      "3.0         5\n",
      "Name: INJURIES_FATAL, dtype: int64\n",
      "\n",
      "INJURIES_INCAPACITATING: 98.36875%\n",
      "0.0    509016\n",
      "1.0      7433\n",
      "2.0       750\n",
      "3.0       182\n",
      "4.0        61\n",
      "5.0        12\n",
      "6.0         3\n",
      "Name: INJURIES_INCAPACITATING, dtype: int64\n",
      "\n",
      "INJURIES_NON_INCAPACITATING: 92.54238%\n",
      "0.0     478867\n",
      "1.0      30525\n",
      "2.0       5524\n",
      "3.0       1639\n",
      "4.0        571\n",
      "5.0        201\n",
      "6.0         76\n",
      "7.0         30\n",
      "8.0          7\n",
      "10.0         4\n",
      "9.0          4\n",
      "11.0         3\n",
      "21.0         2\n",
      "14.0         1\n",
      "18.0         1\n",
      "12.0         1\n",
      "16.0         1\n",
      "Name: INJURIES_NON_INCAPACITATING, dtype: int64\n",
      "\n",
      "INJURIES_REPORTED_NOT_EVIDENT: 95.59442%\n",
      "0.0     494660\n",
      "1.0      17839\n",
      "2.0       3596\n",
      "3.0        915\n",
      "4.0        281\n",
      "5.0        115\n",
      "6.0         23\n",
      "7.0         13\n",
      "8.0          6\n",
      "9.0          5\n",
      "10.0         3\n",
      "15.0         1\n",
      "Name: INJURIES_REPORTED_NOT_EVIDENT, dtype: int64\n",
      "\n",
      "INJURIES_UNKNOWN: 100.00000%\n",
      "0.0    517457\n",
      "Name: INJURIES_UNKNOWN, dtype: int64\n",
      "\n"
     ]
    }
   ],
   "source": [
    "# We can create a list of features with a high percentage of the same value.\n",
    "# Specifying below to show features with over 50% rows being the same value.\n",
    "\n",
    "num_rows = len(data.index)\n",
    "low_information_cols = [] #\n",
    "\n",
    "for col in data.columns:\n",
    "    cnts = data[col].value_counts(dropna=False)\n",
    "    top_pct = (cnts/num_rows).iloc[0]\n",
    "    \n",
    "    if top_pct > 0.50:\n",
    "        low_information_cols.append(col)\n",
    "        print('{0}: {1:.5f}%'.format(col, top_pct*100))\n",
    "        print(cnts)\n",
    "        print()"
   ]
  },
  {
   "cell_type": "code",
   "execution_count": 12,
   "id": "28076471",
   "metadata": {
    "ExecuteTime": {
     "end_time": "2021-10-04T17:39:15.593777Z",
     "start_time": "2021-10-04T17:39:14.810225Z"
    }
   },
   "outputs": [
    {
     "data": {
      "image/png": "[encoded data removed]",
      "text/plain": [
       "<Figure size 2160x720 with 2 Axes>"
      ]
     },
     "metadata": {},
     "output_type": "display_data"
    }
   ],
   "source": [
    "# Creating Correlation Heat Map\n",
    "\n",
    "corr = data.corr() \n",
    "c1 = corr.abs().unstack().drop_duplicates()\n",
    "\n",
    "filtered_corr = corr[((corr >= .5) | (corr <= -.5)) & (corr !=1.000)]\n",
    "plt.figure(figsize=(30,10))\n",
    "sns.heatmap(filtered_corr, annot = True, cmap = \"Reds\")\n",
    "plt.show()"
   ]
  },
  {
   "cell_type": "code",
   "execution_count": 13,
   "id": "17ea9ee4",
   "metadata": {
    "ExecuteTime": {
     "end_time": "2021-10-04T17:39:15.635086Z",
     "start_time": "2021-10-04T17:39:15.595425Z"
    }
   },
   "outputs": [
    {
     "data": {
      "text/plain": [
       "NO INJURY / DRIVE AWAY              0.750563\n",
       "INJURY AND / OR TOW DUE TO CRASH    0.249437\n",
       "Name: CRASH_TYPE, dtype: float64"
      ]
     },
     "execution_count": 13,
     "metadata": {},
     "output_type": "execute_result"
    }
   ],
   "source": [
    "# Reviewing the Target Variable Value Count\n",
    "\n",
    "data['CRASH_TYPE'].value_counts(normalize = True)"
   ]
  },
  {
   "cell_type": "code",
   "execution_count": 14,
   "id": "fc0e1575",
   "metadata": {
    "ExecuteTime": {
     "end_time": "2021-10-04T17:39:15.782345Z",
     "start_time": "2021-10-04T17:39:15.637580Z"
    }
   },
   "outputs": [],
   "source": [
    "# Dropping Conflicting and Unnecessary Columns\n",
    "\n",
    "data = data.drop(['CRASH_RECORD_ID', \n",
    "                  'RD_NO',\n",
    "                  'CRASH_DATE', \n",
    "                  'LATITUDE', \n",
    "                  'LONGITUDE',\n",
    "                  'MOST_SEVERE_INJURY',\n",
    "                  'INJURIES_TOTAL',\n",
    "                  'INJURIES_FATAL',\n",
    "                  'INJURIES_INCAPACITATING',\n",
    "                  'INJURIES_NON_INCAPACITATING',\n",
    "                  'INJURIES_REPORTED_NOT_EVIDENT',\n",
    "                  'INJURIES_NO_INDICATION',\n",
    "                  'INJURIES_UNKNOWN',\n",
    "                  'DATE_POLICE_NOTIFIED'], axis=1)"
   ]
  },
  {
   "cell_type": "code",
   "execution_count": 15,
   "id": "31169948",
   "metadata": {
    "ExecuteTime": {
     "end_time": "2021-10-04T17:39:15.788790Z",
     "start_time": "2021-10-04T17:39:15.784415Z"
    }
   },
   "outputs": [
    {
     "data": {
      "text/plain": [
       "Index(['POSTED_SPEED_LIMIT', 'TRAFFIC_CONTROL_DEVICE', 'DEVICE_CONDITION',\n",
       "       'WEATHER_CONDITION', 'LIGHTING_CONDITION', 'FIRST_CRASH_TYPE',\n",
       "       'TRAFFICWAY_TYPE', 'ALIGNMENT', 'ROADWAY_SURFACE_COND', 'ROAD_DEFECT',\n",
       "       'REPORT_TYPE', 'CRASH_TYPE', 'DAMAGE', 'PRIM_CONTRIBUTORY_CAUSE',\n",
       "       'SEC_CONTRIBUTORY_CAUSE', 'STREET_NO', 'STREET_DIRECTION',\n",
       "       'STREET_NAME', 'BEAT_OF_OCCURRENCE', 'NUM_UNITS', 'CRASH_HOUR',\n",
       "       'CRASH_DAY_OF_WEEK', 'CRASH_MONTH', 'LOCATION'],\n",
       "      dtype='object')"
      ]
     },
     "execution_count": 15,
     "metadata": {},
     "output_type": "execute_result"
    }
   ],
   "source": [
    "# Reviewing Remaining Columns\n",
    "\n",
    "data.columns"
   ]
  },
  {
   "cell_type": "code",
   "execution_count": 16,
   "id": "667d8cb9",
   "metadata": {
    "ExecuteTime": {
     "end_time": "2021-10-04T17:39:15.883429Z",
     "start_time": "2021-10-04T17:39:15.790665Z"
    }
   },
   "outputs": [],
   "source": [
    "# Creating Pandas Profile for Exploration \n",
    "\n",
    "profile = ProfileReport(data, title = \"pandas_profiling\", explorative = True)\n"
   ]
  },
  {
   "cell_type": "code",
   "execution_count": null,
   "id": "9a01f466",
   "metadata": {
    "ExecuteTime": {
     "start_time": "2021-10-04T17:38:55.236Z"
    }
   },
   "outputs": [
    {
     "data": {
      "application/vnd.jupyter.widget-view+json": {
       "model_id": "e0bdebb2a05143e484604282801cb128",
       "version_major": 2,
       "version_minor": 0
      },
      "text/plain": [
       "Summarize dataset:   0%|          | 0/38 [00:00<?, ?it/s]"
      ]
     },
     "metadata": {},
     "output_type": "display_data"
    },
    {
     "data": {
      "application/vnd.jupyter.widget-view+json": {
       "model_id": "82e38b550d0747ed986a7862b5255c07",
       "version_major": 2,
       "version_minor": 0
      },
      "text/plain": [
       "Generate report structure:   0%|          | 0/1 [00:00<?, ?it/s]"
      ]
     },
     "metadata": {},
     "output_type": "display_data"
    }
   ],
   "source": [
    "profile.to_notebook_iframe()"
   ]
  },
  {
   "cell_type": "code",
   "execution_count": null,
   "id": "17b8456e",
   "metadata": {
    "ExecuteTime": {
     "start_time": "2021-10-04T17:38:55.238Z"
    }
   },
   "outputs": [],
   "source": [
    "profile.to_file(\"clean_traffic_crashes_data_pandas_profiling.html\")"
   ]
  },
  {
   "cell_type": "code",
   "execution_count": null,
   "id": "c9f8dbd9",
   "metadata": {
    "ExecuteTime": {
     "start_time": "2021-10-04T17:38:55.239Z"
    }
   },
   "outputs": [],
   "source": [
    "# Exporting Clean Dataset to CSV\n",
    "\n",
    "# data.to_csv ('Final_Chicago_Traffic_Crashes_Cleaned.csv', index = False, header = True)"
   ]
  },
  {
   "cell_type": "code",
   "execution_count": null,
   "id": "e34fe52e",
   "metadata": {},
   "outputs": [],
   "source": []
  }
 ],
 "metadata": {
  "hide_input": false,
  "kernelspec": {
   "display_name": "Python 3",
   "language": "python",
   "name": "python3"
  },
  "language_info": {
   "codemirror_mode": {
    "name": "ipython",
    "version": 3
   },
   "file_extension": ".py",
   "mimetype": "text/x-python",
   "name": "python",
   "nbconvert_exporter": "python",
   "pygments_lexer": "ipython3",
   "version": "3.8.8"
  },
  "varInspector": {
   "cols": {
    "lenName": 16,
    "lenType": 16,
    "lenVar": 40
   },
   "kernels_config": {
    "python": {
     "delete_cmd_postfix": "",
     "delete_cmd_prefix": "del ",
     "library": "var_list.py",
     "varRefreshCmd": "print(var_dic_list())"
    },
    "r": {
     "delete_cmd_postfix": ") ",
     "delete_cmd_prefix": "rm(",
     "library": "var_list.r",
     "varRefreshCmd": "cat(var_dic_list()) "
    }
   },
   "types_to_exclude": [
    "module",
    "function",
    "builtin_function_or_method",
    "instance",
    "_Feature"
   ],
   "window_display": false
  }
 },
 "nbformat": 4,
 "nbformat_minor": 5
}
